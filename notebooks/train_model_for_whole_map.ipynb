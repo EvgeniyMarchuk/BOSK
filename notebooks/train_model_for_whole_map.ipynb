{
 "cells": [
  {
   "cell_type": "markdown",
   "metadata": {},
   "source": [
    "# Тренировка модели + визуализация"
   ]
  },
  {
   "cell_type": "code",
   "execution_count": 1,
   "metadata": {},
   "outputs": [],
   "source": [
    "# необходимые библиотеки и файлы\n",
    "import os\n",
    "import sys\n",
    "\n",
    "sys.path.insert(0, \"/home/m_evgeniy/BOSK\")\n",
    "\n",
    "from bosk.__init__ import *\n",
    "from bosk.imports import *\n",
    "from bosk.utils import load_model_for_large_image, make_prediction\n",
    "\n",
    "%load_ext autoreload\n",
    "%autoreload 2"
   ]
  },
  {
   "cell_type": "code",
   "execution_count": null,
   "metadata": {},
   "outputs": [],
   "source": [
    "from pathlib import Path\n",
    "\n",
    "# Setup path to data folder\n",
    "data_path = Path(\"../data/Dataset_DeepGlobe/\")\n",
    "\n",
    "if data_path.is_dir():\n",
    "    print(f\"{data_path} directory exists.\")\n",
    "else:\n",
    "    print(f\"Did not find {data_path} directory :(\")"
   ]
  },
  {
   "cell_type": "code",
   "execution_count": null,
   "metadata": {},
   "outputs": [],
   "source": [
    "train_dir = data_path / \"train\"\n",
    "val_dir = data_path / \"valid\"\n",
    "test_dir = data_path / \"test\"\n",
    "\n",
    "train_dir, val_dir, test_dir"
   ]
  },
  {
   "cell_type": "code",
   "execution_count": null,
   "metadata": {},
   "outputs": [],
   "source": [
    "def walk_through_dir(dir_path):\n",
    "    \"\"\"\n",
    "    Walks through dir_path returning its contents.\n",
    "    Args:\n",
    "      dir_path (str or pathlib.Path): target directory\n",
    "\n",
    "    Returns:\n",
    "      A print out of:\n",
    "        number of subdiretories in dir_path\n",
    "        number of images (files) in each subdirectory\n",
    "        name of each subdirectory\n",
    "    \"\"\"\n",
    "    for dirpath, dirnames, filenames in os.walk(dir_path):\n",
    "        print(\n",
    "            f\"There are {len(dirnames)} directories and {len(filenames)} images in '{dirpath}'.\"\n",
    "        )\n",
    "\n",
    "\n",
    "walk_through_dir(data_path)"
   ]
  },
  {
   "cell_type": "code",
   "execution_count": null,
   "metadata": {},
   "outputs": [],
   "source": [
    "num_classes = 2\n",
    "transform = None\n",
    "processor = SegformerImageProcessor.from_pretrained(\n",
    "    \"nvidia/segformer-b0-finetuned-ade-512-512\"\n",
    ")\n",
    "model = SegformerForSemanticSegmentation.from_pretrained(\n",
    "    \"nvidia/segformer-b0-finetuned-ade-512-512\",\n",
    "    num_labels=num_classes,  # Меняем количество выходных классов\n",
    "    ignore_mismatched_sizes=True,  # Позволяет менять последний слой\n",
    ").to(DEVICE)\n",
    "\n",
    "model.decode_head.classifier = nn.Conv2d(256, 1, kernel_size=1)\n",
    "torch.nn.init.xavier_uniform_(model.decode_head.classifier.weight)\n",
    "torch.nn.init.zeros_(model.decode_head.classifier.bias)\n",
    "\n",
    "model_type = \"segformer\""
   ]
  },
  {
   "cell_type": "code",
   "execution_count": 6,
   "metadata": {},
   "outputs": [],
   "source": [
    "class DeepGlobeDataset(Dataset):\n",
    "    def __init__(\n",
    "        self, root_dir, model_type, transforms=None, processor=None, image_size=512\n",
    "    ):\n",
    "        self.model_type = model_type\n",
    "        self.transforms = transforms\n",
    "        self.processor = processor\n",
    "        self.image_size = image_size\n",
    "\n",
    "        images_dir = root_dir / \"images\"\n",
    "        masks_dir = root_dir / \"masks\"\n",
    "\n",
    "        self.image_paths = sorted(\n",
    "            [images_dir / file_name for file_name in os.listdir(images_dir)]\n",
    "        )\n",
    "        self.mask_paths = sorted(\n",
    "            [masks_dir / file_name for file_name in os.listdir(masks_dir)]\n",
    "        )\n",
    "\n",
    "    def __len__(self):\n",
    "        return len(self.image_paths)\n",
    "\n",
    "    def __getitem__(self, index):\n",
    "        image_path = self.image_paths[index]\n",
    "        mask_path = self.mask_paths[index]\n",
    "\n",
    "        image = Image.open(image_path).convert(\"RGB\")\n",
    "        mask = Image.open(mask_path).convert(\"L\")\n",
    "\n",
    "        if self.model_type == \"segformer\":\n",
    "            encoding = self.processor(image, return_tensors=\"pt\")\n",
    "            image = encoding[\"pixel_values\"].squeeze(0)  # [3, H, W]\n",
    "            mask = mask.resize(\n",
    "                (self.image_size, self.image_size), resample=Image.NEAREST\n",
    "            )\n",
    "        else:\n",
    "            image = self.transform(image)\n",
    "            mask = mask.resize(\n",
    "                (self.image_size, self.image_size), resample=Image.NEAREST\n",
    "            )\n",
    "\n",
    "        mask = torch.tensor(np.array(mask), dtype=torch.long)\n",
    "        mask[mask == 255] = 1\n",
    "\n",
    "        return image, mask"
   ]
  },
  {
   "cell_type": "code",
   "execution_count": 7,
   "metadata": {},
   "outputs": [],
   "source": [
    "train_data = DeepGlobeDataset(train_dir, model_type, transform, processor)\n",
    "\n",
    "val_data = DeepGlobeDataset(val_dir, model_type, transform, processor)\n",
    "\n",
    "test_data = DeepGlobeDataset(test_dir, model_type, transform, processor)"
   ]
  },
  {
   "cell_type": "code",
   "execution_count": null,
   "metadata": {},
   "outputs": [],
   "source": [
    "batch_size = 8\n",
    "train_dataloader = DataLoader(\n",
    "    dataset=train_data,\n",
    "    batch_size=batch_size,  # how many samples per batch?\n",
    "    shuffle=True,\n",
    ")\n",
    "\n",
    "val_dataloader = DataLoader(dataset=val_data, batch_size=batch_size, shuffle=False)\n",
    "\n",
    "test_dataloader = DataLoader(dataset=test_data, batch_size=batch_size, shuffle=False)\n",
    "\n",
    "len(train_dataloader), len(test_dataloader)"
   ]
  },
  {
   "cell_type": "code",
   "execution_count": null,
   "metadata": {},
   "outputs": [],
   "source": [
    "next(iter(test_dataloader))[0].shape, next(iter(test_dataloader))[1].shape"
   ]
  },
  {
   "cell_type": "code",
   "execution_count": null,
   "metadata": {},
   "outputs": [],
   "source": [
    "mask_array = next(iter(val_dataloader))[1][0]\n",
    "\n",
    "# Определяем уникальные классы\n",
    "unique_classes = np.unique(mask_array)\n",
    "print(\"Уникальные классы в маске:\", unique_classes)\n",
    "print(\"Количество классов:\", len(unique_classes))"
   ]
  },
  {
   "cell_type": "code",
   "execution_count": null,
   "metadata": {},
   "outputs": [],
   "source": [
    "data = next(iter(test_dataloader))\n",
    "num_examples = 5\n",
    "\n",
    "fig, axes = plt.subplots(2, num_examples, figsize=(12, 8))\n",
    "\n",
    "images, masks = data\n",
    "for i in range(num_examples):\n",
    "    axes[0, i].imshow(images[i].permute(1, 2, 0))\n",
    "    axes[0, i].set_title(\"Image\")\n",
    "    axes[1, i].imshow(masks[i])\n",
    "    axes[1, i].set_title(\"Mask\")"
   ]
  },
  {
   "cell_type": "code",
   "execution_count": 18,
   "metadata": {},
   "outputs": [],
   "source": [
    "processor = None\n",
    "transform = T.Compose([T.Resize((512, 512)), T.ToTensor()])\n",
    "\n",
    "model = deeplabv3_mobilenet_v3_large()\n",
    "model.classifier[4] = nn.Conv2d(256, 1, kernel_size=1)\n",
    "model = model.to(DEVICE)\n",
    "\n",
    "model_type = \"deeplab\""
   ]
  },
  {
   "cell_type": "code",
   "execution_count": null,
   "metadata": {},
   "outputs": [],
   "source": [
    "summary(\n",
    "    model=model,\n",
    "    input_size=(1, 3, 512, 512),\n",
    "    col_names=[\"input_size\", \"output_size\", \"num_params\", \"trainable\"],\n",
    "    col_width=20,\n",
    "    row_settings=[\"var_names\"],\n",
    ")"
   ]
  },
  {
   "cell_type": "code",
   "execution_count": 24,
   "metadata": {},
   "outputs": [],
   "source": [
    "def train(\n",
    "    model,\n",
    "    train_dataloader,\n",
    "    valid_dataloader,\n",
    "    criterion,\n",
    "    lr,\n",
    "    epochs,\n",
    "    model_name,\n",
    "    num_classes=5,\n",
    "    device=DEVICE,\n",
    "    verbose=False,\n",
    "    is_scheduler=False,\n",
    "):\n",
    "    model = model.to(device)\n",
    "    optimizer = torch.optim.AdamW(model.parameters(), lr=lr)\n",
    "    iou_score = JaccardIndex(\n",
    "        task=\"multiclass\" if num_classes > 2 else \"binary\", num_classes=num_classes\n",
    "    ).to(device)\n",
    "    # dice_score = Dice(num_classes=1, threshold=0.5, zero_division=1e-8, multiclass=False).to(device)\n",
    "\n",
    "    if is_scheduler:\n",
    "        scheduler = torch.optim.lr_scheduler.StepLR(optimizer, step_size=2, gamma=0.5)\n",
    "\n",
    "    # Получаем первый батч валидации (фиксируем его)\n",
    "    val_data, val_true_mask = next(iter(valid_dataloader))\n",
    "    val_data, val_true_mask = val_data.to(device), val_true_mask.to(device)\n",
    "\n",
    "    best_model = None\n",
    "    best_val_loss = float(\"inf\")  # Инициализируем наихудшее значение лосса\n",
    "    best_val_iou_score = 0\n",
    "    # best_val_dice_score = 0\n",
    "\n",
    "    loss_history = {\"train\": [], \"valid\": []}\n",
    "    iou_score_history = {\"train\": [], \"valid\": []}\n",
    "    # dice_score_history = {\"train\": [], \"valid\": []}\n",
    "\n",
    "    # Начальная проверка\n",
    "    model.eval()\n",
    "    with torch.no_grad():\n",
    "        val_pred = make_prediction(model, val_data, model_name)\n",
    "        initial_val_loss = criterion(val_pred.squeeze(1), val_true_mask.float()).item()\n",
    "        initial_val_iou_score = iou_score(\n",
    "            val_pred.squeeze(1), val_true_mask.squeeze(1)\n",
    "        ).detach()\n",
    "        # initial_val_dice_score = dice_score(predicted_classes, val_true_mask.squeeze(1)).detach()\n",
    "\n",
    "    print(f\"Initial validation loss: {initial_val_loss:.4f}\")\n",
    "    print(f\"Initial validation IoU score: {initial_val_iou_score:.4f}\")\n",
    "    # print(f\"Initial validation Dice score: {initial_val_dice_score:.4f}\")\n",
    "\n",
    "    for epoch in range(epochs):\n",
    "        print(f\"Epoch {epoch + 1}/{epochs}\")\n",
    "\n",
    "        # Обучение\n",
    "        model.train()\n",
    "        total_loss = 0\n",
    "        total_iou_score, total_dice_score = 0, 0\n",
    "\n",
    "        for data, true_mask in tqdm(train_dataloader, desc=\"Training\", leave=False):\n",
    "            data, true_mask = data.to(device), true_mask.to(device)\n",
    "            optimizer.zero_grad()\n",
    "\n",
    "            prediction = make_prediction(model, data, model_name)\n",
    "            loss = criterion(prediction.squeeze(1), true_mask.float())\n",
    "\n",
    "            loss.backward()\n",
    "            optimizer.step()\n",
    "\n",
    "            total_loss += loss.item()\n",
    "            total_iou_score += iou_score(\n",
    "                prediction.squeeze(1), true_mask.squeeze(1)\n",
    "            ).item()\n",
    "            # total_dice_score += dice_score(prediction.squeeze(1), true_mask.squeeze(1)).item()\n",
    "\n",
    "        train_loss = total_loss / len(train_dataloader)\n",
    "        train_iou_score = total_iou_score / len(train_dataloader)\n",
    "        # train_dice_score = total_dice_score / len(train_dataloader)\n",
    "\n",
    "        if is_scheduler:\n",
    "            scheduler.step()\n",
    "\n",
    "        # Оценка на валидации\n",
    "        torch.cuda.empty_cache()  # Очищаем кеш перед валидацией\n",
    "        model.eval()\n",
    "        with torch.no_grad():\n",
    "            ########################################################################\n",
    "            # image_path = \"../data/Dataset_DeepGlobe/train/images/3602_sat.jpg\"\n",
    "            # predict_and_visualize(model, image_path, model_type=\"segformer\")\n",
    "            ########################################################################\n",
    "            \n",
    "            val_pred = make_prediction(model, val_data, model_name)\n",
    "\n",
    "            val_loss = criterion(val_pred.squeeze(1), val_true_mask.float()).item()\n",
    "            val_iou_score = iou_score(\n",
    "                val_pred.squeeze(1), val_true_mask.squeeze(1)\n",
    "            ).detach()\n",
    "            # val_dice_score = dice_score(predicted_classes, val_true_mask.squeeze(1)).detach()\n",
    "\n",
    "        # Сохраняем лучшую модель\n",
    "        if val_loss < best_val_loss:\n",
    "            best_val_loss = val_loss\n",
    "            best_val_iou_score = val_iou_score\n",
    "            # best_val_dice_score = val_dice_score\n",
    "            best_model = deepcopy(model)\n",
    "\n",
    "        # Логирование\n",
    "        loss_history[\"train\"].append(train_loss)\n",
    "        loss_history[\"valid\"].append(val_loss)\n",
    "        iou_score_history[\"train\"].append(train_iou_score)\n",
    "        iou_score_history[\"valid\"].append(val_iou_score)\n",
    "        # dice_score_history[\"train\"].append(train_dice_score)\n",
    "        # dice_score_history[\"valid\"].append(val_dice_score)\n",
    "\n",
    "        if verbose:\n",
    "            print(f\"Train Loss: {train_loss:.4f}, Val Loss: {val_loss:.4f}\")\n",
    "            print(\n",
    "                f\"Train IoU score: {train_iou_score:.4f}, Val IoU score: {val_iou_score:.4f}\"\n",
    "            )\n",
    "            # print(f\"Train Dice score: {train_dice_score:.4f}, Val Dice score: {val_dice_score:.4f}\")\n",
    "\n",
    "    print(f\"Best Validation Loss: {best_val_loss:.4f}\")\n",
    "    print(f\"Best Validation IoU score: {best_val_iou_score:.4f}\")\n",
    "    # print(f\"Best Validation Dice score: {best_val_dice_score:.4f}\")\n",
    "\n",
    "    return best_model, loss_history, iou_score_history"
   ]
  },
  {
   "cell_type": "code",
   "execution_count": 25,
   "metadata": {},
   "outputs": [
    {
     "name": "stdout",
     "output_type": "stream",
     "text": [
      "Initial validation loss: 0.1328\n",
      "Initial validation IoU score: 0.1259\n",
      "Epoch 1/5\n"
     ]
    },
    {
     "data": {
      "application/vnd.jupyter.widget-view+json": {
       "model_id": "a44eb1146dec4b83bf41070ccb8a177a",
       "version_major": 2,
       "version_minor": 0
      },
      "text/plain": [
       "Training:   0%|          | 0/545 [00:00<?, ?it/s]"
      ]
     },
     "metadata": {},
     "output_type": "display_data"
    },
    {
     "name": "stdout",
     "output_type": "stream",
     "text": [
      "Train Loss: 0.1036, Val Loss: 0.0959\n",
      "Train IoU score: 0.1788, Val IoU score: 0.3740\n",
      "Epoch 2/5\n"
     ]
    },
    {
     "data": {
      "application/vnd.jupyter.widget-view+json": {
       "model_id": "7a1c2be1db5a44da9aa9207a5e58cb4e",
       "version_major": 2,
       "version_minor": 0
      },
      "text/plain": [
       "Training:   0%|          | 0/545 [00:00<?, ?it/s]"
      ]
     },
     "metadata": {},
     "output_type": "display_data"
    },
    {
     "name": "stdout",
     "output_type": "stream",
     "text": [
      "Train Loss: 0.0899, Val Loss: 0.0903\n",
      "Train IoU score: 0.2712, Val IoU score: 0.3769\n",
      "Epoch 3/5\n"
     ]
    },
    {
     "data": {
      "application/vnd.jupyter.widget-view+json": {
       "model_id": "eb2454f382b34e7ebb84098f63cde80f",
       "version_major": 2,
       "version_minor": 0
      },
      "text/plain": [
       "Training:   0%|          | 0/545 [00:00<?, ?it/s]"
      ]
     },
     "metadata": {},
     "output_type": "display_data"
    },
    {
     "name": "stdout",
     "output_type": "stream",
     "text": [
      "Train Loss: 0.0855, Val Loss: 0.0864\n",
      "Train IoU score: 0.2959, Val IoU score: 0.3054\n",
      "Epoch 4/5\n"
     ]
    },
    {
     "data": {
      "application/vnd.jupyter.widget-view+json": {
       "model_id": "5d1d99966fb5492dbe03dff58e60e2cf",
       "version_major": 2,
       "version_minor": 0
      },
      "text/plain": [
       "Training:   0%|          | 0/545 [00:00<?, ?it/s]"
      ]
     },
     "metadata": {},
     "output_type": "display_data"
    },
    {
     "name": "stdout",
     "output_type": "stream",
     "text": [
      "Train Loss: 0.0826, Val Loss: 0.0828\n",
      "Train IoU score: 0.3132, Val IoU score: 0.3879\n",
      "Epoch 5/5\n"
     ]
    },
    {
     "data": {
      "application/vnd.jupyter.widget-view+json": {
       "model_id": "d6ada74db27c4e7fb2af2a8511cad7eb",
       "version_major": 2,
       "version_minor": 0
      },
      "text/plain": [
       "Training:   0%|          | 0/545 [00:00<?, ?it/s]"
      ]
     },
     "metadata": {},
     "output_type": "display_data"
    },
    {
     "name": "stdout",
     "output_type": "stream",
     "text": [
      "Train Loss: 0.0826, Val Loss: 0.0887\n",
      "Train IoU score: 0.3140, Val IoU score: 0.4159\n",
      "Best Validation Loss: 0.0828\n",
      "Best Validation IoU score: 0.3879\n",
      "Модель сохранена!\n"
     ]
    }
   ],
   "source": [
    "lr = 1e-3\n",
    "epochs = 5\n",
    "\n",
    "model_save_name = \"deeplab_for_large_image_2\"\n",
    "assert model_save_name is not None, \"Enter model's name for saving\"\n",
    "\n",
    "criterion = nn.BCEWithLogitsLoss()\n",
    "best_model, loss_history, iou_score_history = train(\n",
    "    model,\n",
    "    train_dataloader,\n",
    "    val_dataloader,\n",
    "    criterion,\n",
    "    lr,\n",
    "    epochs,\n",
    "    model_type,\n",
    "    num_classes=num_classes,\n",
    "    verbose=True,\n",
    "    is_scheduler=True\n",
    ")\n",
    "\n",
    "torch.save(best_model.state_dict(), f\"../models/{model_save_name}.pth\")\n",
    "print(\"Модель сохранена!\")"
   ]
  },
  {
   "cell_type": "code",
   "execution_count": null,
   "metadata": {},
   "outputs": [],
   "source": [
    "model_path = \"../models/segformer_for_large_image_2.pth\"\n",
    "model = load_model_for_large_image(model_path).to(DEVICE)"
   ]
  },
  {
   "cell_type": "code",
   "execution_count": null,
   "metadata": {},
   "outputs": [],
   "source": [
    "def predict_and_visualize(model, image_path, model_type, device=DEVICE):\n",
    "    # Преобразования\n",
    "    transform = T.Compose(\n",
    "        [\n",
    "            T.Resize((512, 512)),\n",
    "            T.ToTensor(),\n",
    "        ]\n",
    "    )\n",
    "\n",
    "    # Загружаем изображение\n",
    "    image = Image.open(image_path).convert(\"RGB\")\n",
    "    input_tensor = transform(image).unsqueeze(0).to(device)\n",
    "\n",
    "    # Предсказание\n",
    "    with torch.no_grad():\n",
    "        output = make_prediction(model, input_tensor, model_type)\n",
    "        predicted_mask = torch.argmax(output, dim=1).squeeze(0).cpu().numpy()\n",
    "\n",
    "    # === Визуализация ===\n",
    "    plt.figure(figsize=(12, 5))\n",
    "\n",
    "    # Оригинальное изображение\n",
    "    plt.subplot(1, 3, 1)\n",
    "    plt.imshow(image)\n",
    "    plt.axis(\"off\")\n",
    "    plt.title(\"Original Image\")\n",
    "\n",
    "    # Предсказанная маска\n",
    "    plt.subplot(1, 3, 2)\n",
    "    plt.imshow(predicted_mask, cmap=\"jet\", alpha=0.7)\n",
    "    plt.axis(\"off\")\n",
    "    plt.title(\"Predicted Segmentation\")\n",
    "\n",
    "    # Наложение маски на изображение\n",
    "    plt.subplot(1, 3, 3)\n",
    "    plt.imshow(image)\n",
    "    plt.imshow(predicted_mask, cmap=\"jet\", alpha=0.5)\n",
    "    plt.axis(\"off\")\n",
    "    plt.title(\"Overlay\")\n",
    "\n",
    "    plt.show()\n",
    "\n",
    "\n",
    "image_path = \"../data/Dataset_DeepGlobe/valid/images/999531_sat.jpg\"\n",
    "predict_and_visualize(best_model, image_path, model_type=\"deeplab\")"
   ]
  },
  {
   "cell_type": "code",
   "execution_count": null,
   "metadata": {},
   "outputs": [],
   "source": []
  }
 ],
 "metadata": {
  "kernelspec": {
   "display_name": "venv",
   "language": "python",
   "name": "python3"
  },
  "language_info": {
   "codemirror_mode": {
    "name": "ipython",
    "version": 3
   },
   "file_extension": ".py",
   "mimetype": "text/x-python",
   "name": "python",
   "nbconvert_exporter": "python",
   "pygments_lexer": "ipython3",
   "version": "3.12.8"
  }
 },
 "nbformat": 4,
 "nbformat_minor": 2
}
