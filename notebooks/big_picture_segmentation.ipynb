{
 "cells": [
  {
   "cell_type": "code",
   "execution_count": 27,
   "metadata": {},
   "outputs": [
    {
     "name": "stdout",
     "output_type": "stream",
     "text": [
      "The autoreload extension is already loaded. To reload it, use:\n",
      "  %reload_ext autoreload\n"
     ]
    }
   ],
   "source": [
    "import sys\n",
    "sys.path.append(\"/home/user/Projects/BOSK/\")\n",
    "from bosk.big_picture_utils import get_patches, combine_patches,segment_patch\n",
    "from bosk.utils import load_model \n",
    "from bosk.imports import *\n",
    "\n",
    "%load_ext autoreload\n",
    "%autoreload 2\n",
    "\n",
    "image_path = Path(\"../Some_images/Landscape_Bosk.png\")\n",
    "image = Image.open(image_path)"
   ]
  },
  {
   "cell_type": "code",
   "execution_count": null,
   "metadata": {},
   "outputs": [],
   "source": [
    "splits_per_side = 16\n",
    "num_patches = splits_per_side**2\n",
    "patches = get_patches(image, num_patches)\n",
    "\n",
    "fig, axes = plt.subplots(splits_per_side, splits_per_side)\n",
    "for i in range(num_patches):\n",
    "    row = i // splits_per_side\n",
    "    col = i % splits_per_side\n",
    "\n",
    "    axes[row, col].imshow(patches[i])"
   ]
  },
  {
   "cell_type": "code",
   "execution_count": 29,
   "metadata": {},
   "outputs": [],
   "source": [
    "model_paths = [\n",
    "    \"../models/segformer_1.pth\",\n",
    "    \"../models/unet_with_mobilenet_2.pth\",\n",
    "    \"../models/newest_deeplab.pth\",\n",
    "]\n",
    "model_types = [\"segformer\", \"unet_mobile\", \"deeplab\"]\n",
    "assert (\n",
    "    model_paths is not None and model_types is not None\n",
    "), \"Enter path for loading model and model's type\""
   ]
  },
  {
   "cell_type": "code",
   "execution_count": null,
   "metadata": {},
   "outputs": [
    {
     "name": "stdout",
     "output_type": "stream",
     "text": [
      "segformer model is perfoming now\n"
     ]
    },
    {
     "name": "stderr",
     "output_type": "stream",
     "text": [
      "Some weights of SegformerForSemanticSegmentation were not initialized from the model checkpoint at nvidia/segformer-b0-finetuned-ade-512-512 and are newly initialized because the shapes did not match:\n",
      "- decode_head.classifier.bias: found shape torch.Size([150]) in the checkpoint and torch.Size([5]) in the model instantiated\n",
      "- decode_head.classifier.weight: found shape torch.Size([150, 256, 1, 1]) in the checkpoint and torch.Size([5, 256, 1, 1]) in the model instantiated\n",
      "You should probably TRAIN this model on a down-stream task to be able to use it for predictions and inference.\n"
     ]
    },
    {
     "name": "stdout",
     "output_type": "stream",
     "text": [
      "Result is saved in ../Some_images/Segmented_images/segformer.png\n",
      "unet_mobile model is perfoming now\n",
      "Result is saved in ../Some_images/Segmented_images/unet_mobile.png\n",
      "deeplab model is perfoming now\n",
      "Result is saved in ../Some_images/Segmented_images/deeplab.png\n"
     ]
    }
   ],
   "source": [
    "transform = T.Compose([\n",
    "    T.Resize((512, 512)),\n",
    "    T.ToTensor()\n",
    "])\n",
    "\n",
    "for model_path, model_type in zip(model_paths, model_types):\n",
    "    print(f\"{model_type} model is perfoming now\")\n",
    "    model = load_model(model_path, model_type)\n",
    "    segmented_patches = {f\"{model_type}\": []}\n",
    "    for patch in patches:\n",
    "        patch = Image.fromarray(patch)\n",
    "        segmented_patches[f\"{model_type}\"].append(segment_patch(model, patch, model_type, transform))\n",
    "\n",
    "    result = combine_patches(segmented_patches[f\"{model_type}\"])\n",
    "    result_path = Path(f\"../Some_images/Segmented_images/{model_type}.png\")\n",
    "    plt.imsave(result_path, result)\n",
    "    print(f\"Result is saved in {result_path}\\n\")"
   ]
  },
  {
   "cell_type": "code",
   "execution_count": null,
   "metadata": {},
   "outputs": [],
   "source": []
  }
 ],
 "metadata": {
  "kernelspec": {
   "display_name": "venv",
   "language": "python",
   "name": "python3"
  },
  "language_info": {
   "codemirror_mode": {
    "name": "ipython",
    "version": 3
   },
   "file_extension": ".py",
   "mimetype": "text/x-python",
   "name": "python",
   "nbconvert_exporter": "python",
   "pygments_lexer": "ipython3",
   "version": "3.12.3"
  }
 },
 "nbformat": 4,
 "nbformat_minor": 2
}
